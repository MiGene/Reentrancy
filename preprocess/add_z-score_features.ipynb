{
 "cells": [
  {
   "cell_type": "code",
   "execution_count": null,
   "metadata": {},
   "outputs": [],
   "source": [
    "import pandas as pd\n",
    "from scipy.stats import zscore\n",
    "import glob"
   ]
  },
  {
   "cell_type": "code",
   "execution_count": null,
   "metadata": {},
   "outputs": [],
   "source": [
    "def add_z_score(df,cols_to_calculate):\n",
    "    for column in cols_to_calculate:\n",
    "        z_score_column_name = f'z_{column}'\n",
    "        df[z_score_column_name] = zscore(df[column])\n",
    "        df[df[z_score_column_name].isnull()] = 0\n",
    "    return df"
   ]
  },
  {
   "cell_type": "code",
   "execution_count": null,
   "metadata": {},
   "outputs": [],
   "source": [
    "# Specify the path to your CSV files\n",
    "csv_files = glob.glob('datasets/'+dataset+'/*.csv')\n",
    "\n",
    "# Columns for which you want to calculate the z-score\n",
    "columns_of_interest = ['contract_block_involved','contract_tx_count','contract_block_per_tx','contract_main_active_days',\n",
    "                        'sender_block_involved','sender_tx_count','sender_block_per_tx','sender_main_active_days',\n",
    "                        'contract_interact','sender_tx_count_call_contract','sender_days_call_contract','trace_amt',\n",
    "                        'distinct_sender_in_contract','contract_lifetime_days','contract_lifetime_block','distinct_contract_sender_called',\n",
    "                        'sender_lifetime_days','sender_lifetime_block','contract_involved_amt','max_breadth','depth',\n",
    "                        'distinct_was_called_in_sample','distinct_sender_call_in_sample','gas','gas_price','receipt_cumulative_gas_used',\n",
    "                        'receipt_gas_used','value','nonce']\n",
    "\n",
    "# Replace with your actual column names\n",
    "\n",
    "# Loop through each CSV file and append the DataFrame to the list\n",
    "for file in csv_files:\n",
    "    df = pd.read_csv(file)"
   ]
  }
 ],
 "metadata": {
  "kernelspec": {
   "display_name": "Python 3",
   "language": "python",
   "name": "python3"
  },
  "language_info": {
   "name": "python",
   "version": "3.12.3"
  }
 },
 "nbformat": 4,
 "nbformat_minor": 2
}
