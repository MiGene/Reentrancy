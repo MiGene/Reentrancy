{
 "cells": [
  {
   "cell_type": "code",
   "execution_count": 13,
   "metadata": {},
   "outputs": [],
   "source": [
    "import pandas as pd\n",
    "import glob\n",
    "import os\n",
    "from scipy.stats import zscore\n",
    "from utils import find_nulls, add_ratio_features, add_z_score"
   ]
  },
  {
   "cell_type": "code",
   "execution_count": 14,
   "metadata": {},
   "outputs": [],
   "source": [
    "DATASET_SUFFIX = 's_m_a_d_1'\n",
    "PATH_SAMPLE = f'../dataset/real-time/test_normal/test_bacon.csv'\n",
    "CSV_BASE_FOLDER = f'../dataset/real-time/test_normal'\n",
    "CSV_PREPROCESSED_FOLDER = f'../dataset/real-time-{DATASET_SUFFIX}/test_normal_preprocessed'\n",
    "\n",
    "Z_SCORE_COLS =  ['trace_involved_amt','contract_block_involved','contract_tx_count','contract_main_active_days',\n",
    "                'sender_block_involved','sender_tx_count','sender_main_active_days','contract_interact',\n",
    "                'sender_tx_count_call_contract','sender_days_call_contract','trace_amt','distinct_sender_in_contract',\n",
    "                'contract_lifetime_days','contract_lifetime_block','distinct_contract_sender_called',\n",
    "                'sender_lifetime_days','sender_lifetime_block','contract_involved_amt','max_breadth','depth',\n",
    "                'distinct_was_called_in_sample','distinct_sender_call_in_sample','gas','gas_price',\n",
    "                'receipt_cumulative_gas_used','receipt_gas_used','value','nonce']\n",
    "\n",
    "SUS_FILE = '../dataset/sus_tx.csv'  # Replace with the actual file path"
   ]
  },
  {
   "cell_type": "code",
   "execution_count": 15,
   "metadata": {},
   "outputs": [
    {
     "name": "stdout",
     "output_type": "stream",
     "text": [
      "Directory '../dataset/real-time-s_m_a_d_1/test_normal_preprocessed' already exists.\n"
     ]
    }
   ],
   "source": [
    "# Check if the directory exists\n",
    "if not os.path.exists(CSV_PREPROCESSED_FOLDER):\n",
    "    # Create the directory if it doesn't exist\n",
    "    os.makedirs(CSV_PREPROCESSED_FOLDER)\n",
    "    print(f\"Directory '{CSV_PREPROCESSED_FOLDER}' created successfully.\")\n",
    "else:\n",
    "    print(f\"Directory '{CSV_PREPROCESSED_FOLDER}' already exists.\")"
   ]
  },
  {
   "cell_type": "code",
   "execution_count": 16,
   "metadata": {},
   "outputs": [],
   "source": [
    "def impute_depth_and_max_breadth(path):\n",
    "    df = pd.read_csv(path)\n",
    "    df['max_breadth'] = df['max_breadth']+1\n",
    "    df['max_breadth'] = df['max_breadth'].fillna(0)\n",
    "    df['depth'] = df['depth'].fillna(0)\n",
    "    return df\n",
    "\n",
    "def add_sus_col(df,attack_transactions):\n",
    "\n",
    "    def set_value_based_on_condition(row):\n",
    "        if (row['transaction_hash'] in attack_transactions):\n",
    "            return 1\n",
    "        else:\n",
    "            return 0\n",
    "        \n",
    "    df['is_sus'] = df.apply(set_value_based_on_condition, axis=1)\n",
    "\n",
    "    sus_data = df[df['is_sus'] == 1]\n",
    "    not_sus_data = df[df['is_sus'] == 0]\n",
    "\n",
    "    print(len(sus_data))\n",
    "    print(len(not_sus_data))\n",
    "\n",
    "    return df"
   ]
  },
  {
   "cell_type": "code",
   "execution_count": 17,
   "metadata": {},
   "outputs": [
    {
     "name": "stdout",
     "output_type": "stream",
     "text": [
      "<class 'pandas.core.frame.DataFrame'>\n",
      "RangeIndex: 1000 entries, 0 to 999\n",
      "Data columns (total 37 columns):\n",
      " #   Column                           Non-Null Count  Dtype  \n",
      "---  ------                           --------------  -----  \n",
      " 0   transaction_hash                 1000 non-null   object \n",
      " 1   trace_involved_amt               1000 non-null   int64  \n",
      " 2   from_address                     1000 non-null   object \n",
      " 3   to_address                       1000 non-null   object \n",
      " 4   block_timestamp                  1000 non-null   object \n",
      " 5   gas                              1000 non-null   int64  \n",
      " 6   gas_price                        1000 non-null   int64  \n",
      " 7   receipt_cumulative_gas_used      1000 non-null   int64  \n",
      " 8   receipt_gas_used                 1000 non-null   int64  \n",
      " 9   value                            1000 non-null   int64  \n",
      " 10  nonce                            1000 non-null   int64  \n",
      " 11  transaction_type                 1000 non-null   int64  \n",
      " 12  rn                               1000 non-null   int64  \n",
      " 13  contract_block_involved          1000 non-null   int64  \n",
      " 14  contract_tx_count                1000 non-null   int64  \n",
      " 15  contract_block_per_tx            1000 non-null   float64\n",
      " 16  contract_main_active_days        1000 non-null   int64  \n",
      " 17  sender_block_involved            1000 non-null   int64  \n",
      " 18  sender_tx_count                  1000 non-null   int64  \n",
      " 19  sender_block_per_tx              1000 non-null   float64\n",
      " 20  sender_main_active_days          1000 non-null   int64  \n",
      " 21  contract_interact                1000 non-null   int64  \n",
      " 22  add_feat_hash                    1000 non-null   object \n",
      " 23  sender_tx_count_call_contract    1000 non-null   int64  \n",
      " 24  sender_days_call_contract        1000 non-null   int64  \n",
      " 25  trace_amt                        1000 non-null   int64  \n",
      " 26  distinct_sender_in_contract      1000 non-null   int64  \n",
      " 27  contract_lifetime_days           1000 non-null   int64  \n",
      " 28  contract_lifetime_block          1000 non-null   int64  \n",
      " 29  distinct_contract_sender_called  1000 non-null   int64  \n",
      " 30  sender_lifetime_days             1000 non-null   int64  \n",
      " 31  sender_lifetime_block            1000 non-null   int64  \n",
      " 32  contract_involved_amt            1000 non-null   int64  \n",
      " 33  max_breadth                      1000 non-null   int64  \n",
      " 34  depth                            1000 non-null   int64  \n",
      " 35  distinct_was_called_in_sample    1000 non-null   int64  \n",
      " 36  distinct_sender_call_in_sample   1000 non-null   int64  \n",
      "dtypes: float64(2), int64(30), object(5)\n",
      "memory usage: 289.2+ KB\n"
     ]
    }
   ],
   "source": [
    "sample_df = pd.read_csv(PATH_SAMPLE)\n",
    "sample_df.info()"
   ]
  },
  {
   "cell_type": "code",
   "execution_count": 18,
   "metadata": {},
   "outputs": [
    {
     "name": "stdout",
     "output_type": "stream",
     "text": [
      "Series([], dtype: int64)\n",
      "=================\n",
      "transaction_type    1000\n",
      "max_breadth            1\n",
      "depth                  1\n",
      "dtype: int64\n",
      "=================\n",
      "Series([], dtype: int64)\n",
      "=================\n",
      "Series([], dtype: int64)\n",
      "=================\n",
      "transaction_type     38\n",
      "max_breadth         816\n",
      "depth               816\n",
      "dtype: int64\n",
      "=================\n",
      "max_breadth    3\n",
      "depth          3\n",
      "dtype: int64\n",
      "=================\n",
      "max_breadth    4\n",
      "depth          4\n",
      "dtype: int64\n",
      "=================\n",
      "Series([], dtype: int64)\n",
      "=================\n",
      "Series([], dtype: int64)\n",
      "=================\n",
      "transaction_type    1000\n",
      "max_breadth           18\n",
      "depth                 18\n",
      "dtype: int64\n",
      "=================\n",
      "transaction_type    47\n",
      "max_breadth          1\n",
      "depth                1\n",
      "dtype: int64\n",
      "=================\n",
      "transaction_type    1000\n",
      "max_breadth            8\n",
      "depth                  8\n",
      "dtype: int64\n",
      "=================\n",
      "max_breadth    709\n",
      "depth          709\n",
      "dtype: int64\n",
      "=================\n",
      "transaction_type    342\n",
      "max_breadth          19\n",
      "depth                19\n",
      "dtype: int64\n",
      "=================\n",
      "Series([], dtype: int64)\n",
      "=================\n",
      "transaction_type    66\n",
      "max_breadth         11\n",
      "depth               11\n",
      "dtype: int64\n",
      "=================\n",
      "max_breadth    455\n",
      "depth          455\n",
      "dtype: int64\n",
      "=================\n"
     ]
    }
   ],
   "source": [
    "for file_path in glob.glob(os.path.join(CSV_BASE_FOLDER, \"*.csv\")):\n",
    "    df = pd.read_csv(file_path)\n",
    "    find_nulls(df)"
   ]
  },
  {
   "cell_type": "code",
   "execution_count": 19,
   "metadata": {},
   "outputs": [
    {
     "name": "stdout",
     "output_type": "stream",
     "text": [
      "test_bacon.csv\n",
      "0\n",
      "1000\n",
      "Preprocessed file: test_bacon.csv\n",
      "Series([], dtype: int64)\n",
      "=================\n",
      "test_cream.csv\n"
     ]
    },
    {
     "name": "stderr",
     "output_type": "stream",
     "text": [
      "c:\\Users\\User\\AppData\\Local\\Programs\\Python\\Python312\\Lib\\site-packages\\numpy\\core\\_methods.py:176: RuntimeWarning: overflow encountered in multiply\n",
      "  x = um.multiply(x, x, out=x)\n",
      "c:\\Users\\User\\AppData\\Local\\Programs\\Python\\Python312\\Lib\\site-packages\\numpy\\core\\_methods.py:187: RuntimeWarning: overflow encountered in reduce\n",
      "  ret = umr_sum(x, axis, dtype, out, keepdims=keepdims, where=where)\n"
     ]
    },
    {
     "name": "stdout",
     "output_type": "stream",
     "text": [
      "0\n",
      "1000\n",
      "Preprocessed file: test_cream.csv\n",
      "transaction_type    1000\n",
      "dtype: int64\n",
      "=================\n",
      "test_dfx.csv\n",
      "0\n",
      "6\n",
      "Preprocessed file: test_dfx.csv\n",
      "Series([], dtype: int64)\n",
      "=================\n",
      "test_fei.csv\n"
     ]
    },
    {
     "name": "stderr",
     "output_type": "stream",
     "text": [
      "c:\\Users\\User\\AppData\\Local\\Programs\\Python\\Python312\\Lib\\site-packages\\numpy\\core\\_methods.py:176: RuntimeWarning: overflow encountered in multiply\n",
      "  x = um.multiply(x, x, out=x)\n",
      "c:\\Users\\User\\AppData\\Local\\Programs\\Python\\Python312\\Lib\\site-packages\\numpy\\core\\_methods.py:187: RuntimeWarning: overflow encountered in reduce\n",
      "  ret = umr_sum(x, axis, dtype, out, keepdims=keepdims, where=where)\n"
     ]
    },
    {
     "name": "stdout",
     "output_type": "stream",
     "text": [
      "1\n",
      "368\n",
      "Preprocessed file: test_fei.csv\n",
      "Series([], dtype: int64)\n",
      "=================\n",
      "test_hypebear.csv\n",
      "0\n",
      "997\n",
      "Preprocessed file: test_hypebear.csv\n",
      "transaction_type    38\n",
      "dtype: int64\n",
      "=================\n",
      "test_jay.csv\n",
      "1\n",
      "14\n",
      "Preprocessed file: test_jay.csv\n",
      "Series([], dtype: int64)\n",
      "=================\n",
      "test_noodle.csv\n",
      "0\n",
      "48\n",
      "Preprocessed file: test_noodle.csv\n",
      "Series([], dtype: int64)\n",
      "=================\n",
      "test_omni.csv\n",
      "0\n",
      "628\n",
      "Preprocessed file: test_omni.csv\n",
      "Series([], dtype: int64)\n",
      "=================\n",
      "test_orion.csv\n"
     ]
    },
    {
     "name": "stderr",
     "output_type": "stream",
     "text": [
      "c:\\Users\\User\\AppData\\Local\\Programs\\Python\\Python312\\Lib\\site-packages\\numpy\\core\\_methods.py:176: RuntimeWarning: overflow encountered in multiply\n",
      "  x = um.multiply(x, x, out=x)\n",
      "c:\\Users\\User\\AppData\\Local\\Programs\\Python\\Python312\\Lib\\site-packages\\numpy\\core\\_methods.py:187: RuntimeWarning: overflow encountered in reduce\n",
      "  ret = umr_sum(x, axis, dtype, out, keepdims=keepdims, where=where)\n",
      "c:\\Users\\User\\AppData\\Local\\Programs\\Python\\Python312\\Lib\\site-packages\\numpy\\core\\_methods.py:176: RuntimeWarning: overflow encountered in multiply\n",
      "  x = um.multiply(x, x, out=x)\n",
      "c:\\Users\\User\\AppData\\Local\\Programs\\Python\\Python312\\Lib\\site-packages\\numpy\\core\\_methods.py:187: RuntimeWarning: overflow encountered in reduce\n",
      "  ret = umr_sum(x, axis, dtype, out, keepdims=keepdims, where=where)\n"
     ]
    },
    {
     "name": "stdout",
     "output_type": "stream",
     "text": [
      "0\n",
      "1000\n",
      "Preprocessed file: test_orion.csv\n",
      "Series([], dtype: int64)\n",
      "=================\n",
      "test_rari.csv\n"
     ]
    },
    {
     "name": "stderr",
     "output_type": "stream",
     "text": [
      "c:\\Users\\User\\AppData\\Local\\Programs\\Python\\Python312\\Lib\\site-packages\\numpy\\core\\_methods.py:176: RuntimeWarning: overflow encountered in multiply\n",
      "  x = um.multiply(x, x, out=x)\n"
     ]
    },
    {
     "name": "stdout",
     "output_type": "stream",
     "text": [
      "0\n",
      "1000\n",
      "Preprocessed file: test_rari.csv\n",
      "transaction_type    1000\n",
      "dtype: int64\n",
      "=================\n",
      "test_revest.csv\n",
      "0\n",
      "496\n",
      "Preprocessed file: test_revest.csv\n",
      "transaction_type    47\n",
      "dtype: int64\n",
      "=================\n",
      "test_sanshu.csv\n",
      "0\n",
      "1000\n",
      "Preprocessed file: test_sanshu.csv\n",
      "transaction_type    1000\n",
      "dtype: int64\n",
      "=================\n",
      "test_tether.csv\n",
      "0\n",
      "980\n",
      "Preprocessed file: test_tether.csv\n",
      "Series([], dtype: int64)\n",
      "=================\n",
      "test_uniswap.csv\n",
      "0\n",
      "998\n",
      "Preprocessed file: test_uniswap.csv\n",
      "transaction_type    342\n",
      "dtype: int64\n",
      "=================\n",
      "test_usdc.csv\n",
      "0\n",
      "998\n",
      "Preprocessed file: test_usdc.csv\n",
      "Series([], dtype: int64)\n",
      "=================\n"
     ]
    },
    {
     "name": "stderr",
     "output_type": "stream",
     "text": [
      "c:\\Users\\User\\AppData\\Local\\Programs\\Python\\Python312\\Lib\\site-packages\\numpy\\core\\_methods.py:176: RuntimeWarning: overflow encountered in multiply\n",
      "  x = um.multiply(x, x, out=x)\n",
      "c:\\Users\\User\\AppData\\Local\\Programs\\Python\\Python312\\Lib\\site-packages\\numpy\\core\\_methods.py:187: RuntimeWarning: overflow encountered in reduce\n",
      "  ret = umr_sum(x, axis, dtype, out, keepdims=keepdims, where=where)\n",
      "c:\\Users\\User\\AppData\\Local\\Programs\\Python\\Python312\\Lib\\site-packages\\numpy\\core\\_methods.py:176: RuntimeWarning: overflow encountered in multiply\n",
      "  x = um.multiply(x, x, out=x)\n"
     ]
    },
    {
     "name": "stdout",
     "output_type": "stream",
     "text": [
      "test_visor.csv\n",
      "0\n",
      "676\n",
      "Preprocessed file: test_visor.csv\n",
      "transaction_type    66\n",
      "dtype: int64\n",
      "=================\n",
      "test_wyvern.csv\n",
      "0\n",
      "999\n",
      "Preprocessed file: test_wyvern.csv\n",
      "Series([], dtype: int64)\n",
      "=================\n"
     ]
    },
    {
     "name": "stderr",
     "output_type": "stream",
     "text": [
      "c:\\Users\\User\\AppData\\Local\\Programs\\Python\\Python312\\Lib\\site-packages\\numpy\\core\\_methods.py:176: RuntimeWarning: overflow encountered in multiply\n",
      "  x = um.multiply(x, x, out=x)\n"
     ]
    }
   ],
   "source": [
    "for file_path in glob.glob(os.path.join(CSV_BASE_FOLDER, \"*.csv\")):\n",
    "    filename = os.path.basename(file_path)\n",
    "    print(filename)\n",
    "    preprocessed_file_path = CSV_PREPROCESSED_FOLDER+'/'+filename\n",
    "    imputed_df = impute_depth_and_max_breadth(file_path)\n",
    "    imputed_df['sender_main_active_days'] = 1\n",
    "    imputed_df['value'] = imputed_df['value'].astype('float32')\n",
    "\n",
    "    z_score_df = add_z_score(imputed_df,Z_SCORE_COLS)\n",
    "\n",
    "    ratio_df = add_ratio_features(z_score_df)\n",
    "\n",
    "    sus_df = pd.read_csv(SUS_FILE)\n",
    "    sus_transactions = sus_df['sus_tx']\n",
    "    sus_transactions = set(sus_transactions)\n",
    "    added_sus_df = add_sus_col(ratio_df,sus_transactions)\n",
    "\n",
    "    print('Preprocessed file:',filename)\n",
    "    find_nulls(z_score_df)\n",
    "\n",
    "    added_sus_df.to_csv(preprocessed_file_path,index=False)\n",
    "    "
   ]
  }
 ],
 "metadata": {
  "kernelspec": {
   "display_name": "Python 3",
   "language": "python",
   "name": "python3"
  },
  "language_info": {
   "codemirror_mode": {
    "name": "ipython",
    "version": 3
   },
   "file_extension": ".py",
   "mimetype": "text/x-python",
   "name": "python",
   "nbconvert_exporter": "python",
   "pygments_lexer": "ipython3",
   "version": "3.12.3"
  }
 },
 "nbformat": 4,
 "nbformat_minor": 2
}
