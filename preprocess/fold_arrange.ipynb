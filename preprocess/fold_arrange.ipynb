{
 "cells": [
  {
   "cell_type": "code",
   "execution_count": 15,
   "metadata": {},
   "outputs": [],
   "source": [
    "import pandas as pd\n",
    "from utils import find_nulls"
   ]
  },
  {
   "cell_type": "code",
   "execution_count": 16,
   "metadata": {},
   "outputs": [],
   "source": [
    "FOLD_1 = ['dfx','orion','jay']\n",
    "FOLD_2 = ['noodle','visor','cream']\n",
    "FOLD_3 = ['fei','revest','omni']\n",
    "FOLD_4 = ['bacon','sanshu']\n",
    "FOLD_5 = ['hypebear','rari']\n",
    "\n",
    "FOLDS = [FOLD_1,FOLD_2,FOLD_3,FOLD_4,FOLD_5]\n",
    "\n",
    "FILES_PATH = '../dataset/real-time/train_preprocessed'\n",
    "FILLER_PATH = '../dataset/real-time/fill_fold_preprocessed'\n",
    "PREFIX = 'realtime_'"
   ]
  },
  {
   "cell_type": "code",
   "execution_count": 17,
   "metadata": {},
   "outputs": [],
   "source": [
    "def merge_files(folder_path,files_list,fold_num,prefix=''):\n",
    "    sample_file_path = f'{folder_path}/{prefix}{files_list[0]}.csv'\n",
    "    sample_df = pd.read_csv(sample_file_path)\n",
    "    result_df = pd.DataFrame(columns=sample_df.columns)\n",
    "\n",
    "    # Loop through each CSV file\n",
    "    for file in files_list:\n",
    "        file_path = f'{folder_path}/{prefix}{file}.csv'\n",
    "        # Read the CSV file\n",
    "        df = pd.read_csv(file_path)\n",
    "        # Extract values from column A and append them to the result DataFrame\n",
    "        result_df = pd.concat([result_df,df], ignore_index=True)\n",
    "    \n",
    "    filler_df = pd.read_csv(f'{FILLER_PATH}/{fold_num}.csv')\n",
    "    result_df = pd.concat([result_df,filler_df], ignore_index=True)\n",
    "\n",
    "    return result_df"
   ]
  },
  {
   "cell_type": "code",
   "execution_count": 18,
   "metadata": {},
   "outputs": [
    {
     "name": "stderr",
     "output_type": "stream",
     "text": [
      "C:\\Users\\User\\AppData\\Local\\Temp\\ipykernel_34664\\3827261776.py:12: FutureWarning: The behavior of DataFrame concatenation with empty or all-NA entries is deprecated. In a future version, this will no longer exclude empty or all-NA columns when determining the result dtypes. To retain the old behavior, exclude the relevant entries before the concat operation.\n",
      "  result_df = pd.concat([result_df,df], ignore_index=True)\n",
      "C:\\Users\\User\\AppData\\Local\\Temp\\ipykernel_34664\\3827261776.py:12: FutureWarning: The behavior of DataFrame concatenation with empty or all-NA entries is deprecated. In a future version, this will no longer exclude empty or all-NA columns when determining the result dtypes. To retain the old behavior, exclude the relevant entries before the concat operation.\n",
      "  result_df = pd.concat([result_df,df], ignore_index=True)\n",
      "C:\\Users\\User\\AppData\\Local\\Temp\\ipykernel_34664\\3827261776.py:12: FutureWarning: The behavior of DataFrame concatenation with empty or all-NA entries is deprecated. In a future version, this will no longer exclude empty or all-NA columns when determining the result dtypes. To retain the old behavior, exclude the relevant entries before the concat operation.\n",
      "  result_df = pd.concat([result_df,df], ignore_index=True)\n"
     ]
    },
    {
     "name": "stdout",
     "output_type": "stream",
     "text": [
      "Series([], dtype: int64)\n",
      "=================\n",
      "1974\n",
      "add_feat_hash    1999\n",
      "dtype: int64\n",
      "=================\n",
      "2112\n",
      "Series([], dtype: int64)\n",
      "=================\n",
      "2653\n",
      "Series([], dtype: int64)\n",
      "=================\n",
      "1774\n",
      "Series([], dtype: int64)\n",
      "=================\n",
      "1992\n"
     ]
    },
    {
     "name": "stderr",
     "output_type": "stream",
     "text": [
      "C:\\Users\\User\\AppData\\Local\\Temp\\ipykernel_34664\\3827261776.py:12: FutureWarning: The behavior of DataFrame concatenation with empty or all-NA entries is deprecated. In a future version, this will no longer exclude empty or all-NA columns when determining the result dtypes. To retain the old behavior, exclude the relevant entries before the concat operation.\n",
      "  result_df = pd.concat([result_df,df], ignore_index=True)\n",
      "C:\\Users\\User\\AppData\\Local\\Temp\\ipykernel_34664\\3827261776.py:12: FutureWarning: The behavior of DataFrame concatenation with empty or all-NA entries is deprecated. In a future version, this will no longer exclude empty or all-NA columns when determining the result dtypes. To retain the old behavior, exclude the relevant entries before the concat operation.\n",
      "  result_df = pd.concat([result_df,df], ignore_index=True)\n"
     ]
    }
   ],
   "source": [
    "for i in range(len(FOLDS)):\n",
    "    fold_set = FOLDS[i]\n",
    "    fold_df = merge_files(FILES_PATH,fold_set,i+1,PREFIX)\n",
    "    find_nulls(fold_df)\n",
    "    print(len(fold_df))"
   ]
  }
 ],
 "metadata": {
  "kernelspec": {
   "display_name": "Python 3",
   "language": "python",
   "name": "python3"
  },
  "language_info": {
   "codemirror_mode": {
    "name": "ipython",
    "version": 3
   },
   "file_extension": ".py",
   "mimetype": "text/x-python",
   "name": "python",
   "nbconvert_exporter": "python",
   "pygments_lexer": "ipython3",
   "version": "3.12.3"
  }
 },
 "nbformat": 4,
 "nbformat_minor": 2
}
