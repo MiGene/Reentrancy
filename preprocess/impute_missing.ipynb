{
 "cells": [
  {
   "cell_type": "code",
   "execution_count": 85,
   "metadata": {},
   "outputs": [],
   "source": [
    "import pandas as pd\n",
    "import glob\n",
    "import os\n",
    "from scipy.stats import zscore"
   ]
  },
  {
   "cell_type": "code",
   "execution_count": 86,
   "metadata": {},
   "outputs": [],
   "source": [
    "PATH_SAMPLE = '../dataset/real-time/test_attack/realtime_sturdy.csv'\n",
    "CSV_FOLDER = '../dataset/real-time/test_attack'\n",
    "CSV_PREPROCESSED_FOLDER = '../dataset/real-time/test_attack_preprocessed'\n",
    "\n",
    "Z_SCORE_COLS =  ['contract_block_involved','contract_tx_count','contract_block_per_tx','contract_main_active_days',\n",
    "                'sender_block_involved','sender_tx_count','sender_block_per_tx','sender_main_active_days',\n",
    "                'contract_interact','sender_tx_count_call_contract','sender_days_call_contract','trace_amt',\n",
    "                'distinct_sender_in_contract','contract_lifetime_days','contract_lifetime_block','distinct_contract_sender_called',\n",
    "                'sender_lifetime_days','sender_lifetime_block','contract_involved_amt','max_breadth','depth',\n",
    "                'distinct_was_called_in_sample','distinct_sender_call_in_sample','gas','gas_price','receipt_cumulative_gas_used',\n",
    "                'receipt_gas_used','nonce']\n",
    "\n",
    "SUS_FILE = '../dataset/sus_tx.csv'  # Replace with the actual file path"
   ]
  },
  {
   "cell_type": "code",
   "execution_count": 87,
   "metadata": {},
   "outputs": [],
   "source": [
    "def impute_depth_and_max_breadth(path):\n",
    "    df = pd.read_csv(path)\n",
    "    df['max_breadth'] = df['max_breadth']+1\n",
    "    df['max_breadth'] = df['max_breadth'].fillna(0)\n",
    "    df['depth'] = df['depth'].fillna(0)\n",
    "    # find_nulls(df)\n",
    "    return df\n",
    "\n",
    "def find_nulls(df):\n",
    "    null_count = df.isnull().sum()\n",
    "    null_count = null_count[null_count>0]\n",
    "    print(null_count)\n",
    "    print('=================')\n",
    "\n",
    "def add_z_score(df,cols_to_calculate):\n",
    "    # display(df.info())\n",
    "    for column in cols_to_calculate:\n",
    "        z_score_column_name = f'z_{column}'\n",
    "        df[z_score_column_name] = zscore(df[column])\n",
    "        df.loc[df[z_score_column_name].isnull(),z_score_column_name] = 0\n",
    "    return df\n",
    "\n",
    "def add_ratio_features(df):\n",
    "    df['involved_trace_ratio'] = df['trace_involved_amt'] / df['trace_amt']\n",
    "    df['contract_active_day_ratio'] = df['contract_main_active_days'] / (df['contract_lifetime_days']+1)\n",
    "    df['tx_count_per_distinct_caller'] = df['contract_tx_count'] / df['distinct_sender_in_contract']\n",
    "    df['contract_block_ratio'] = df['contract_block_involved'] / (df['contract_lifetime_block']+1)\n",
    "    df['sender_active_day_ratio'] = df['sender_main_active_days'] / (df['sender_lifetime_days']+1)\n",
    "    df['sender_tx_count_per_contract'] = df['sender_tx_count'] / df['distinct_contract_sender_called'] \n",
    "    df['sender_block_ratio'] = df['sender_block_involved'] / (df['sender_lifetime_block']+1)\n",
    "    df['tx_sender_call_contract'] = df['sender_tx_count_call_contract'] / df['sender_tx_count']\n",
    "    df['sender_call_contract_tx_ratio'] = df['sender_tx_count_call_contract'] / df['contract_tx_count']\n",
    "    df['sender_tx_count_call_contract_per_days'] = df['sender_tx_count_call_contract'] / df['sender_days_call_contract']\n",
    "    df['sender_block_per_tx'] = df['sender_block_involved']/df['sender_tx_count']\n",
    "    df['contract_block_per_tx'] = df['contract_block_involved']/df['contract_tx_count']\n",
    "    df['sender_call_contract_day_ratio'] = df['sender_days_call_contract'] / df['contract_main_active_days']\n",
    "    return df\n",
    "\n",
    "def add_sus_col(df,attack_transactions):\n",
    "\n",
    "    def set_value_based_on_condition(row):\n",
    "        if (row['transaction_hash'] in attack_transactions):\n",
    "            return 1\n",
    "        else:\n",
    "            return 0\n",
    "        \n",
    "    df['is_sus'] = df.apply(set_value_based_on_condition, axis=1)\n",
    "\n",
    "    sus_data = df[df['is_sus'] == 1]\n",
    "    not_sus_data = df[df['is_sus'] == 0]\n",
    "\n",
    "    print(len(sus_data))\n",
    "    print(len(not_sus_data))\n",
    "\n",
    "    return df"
   ]
  },
  {
   "cell_type": "code",
   "execution_count": 88,
   "metadata": {},
   "outputs": [
    {
     "name": "stdout",
     "output_type": "stream",
     "text": [
      "Series([], dtype: int64)\n",
      "=================\n",
      "Series([], dtype: int64)\n",
      "=================\n",
      "Series([], dtype: int64)\n",
      "=================\n"
     ]
    }
   ],
   "source": [
    "for file_path in glob.glob(os.path.join(CSV_FOLDER, \"*.csv\")):\n",
    "    df = pd.read_csv(file_path)\n",
    "    find_nulls(df)"
   ]
  },
  {
   "cell_type": "code",
   "execution_count": 89,
   "metadata": {},
   "outputs": [
    {
     "name": "stdout",
     "output_type": "stream",
     "text": [
      "1\n",
      "999\n",
      "Preprocessed file: realtime_curve.csv\n",
      "Series([], dtype: int64)\n",
      "=================\n",
      "1\n",
      "86\n",
      "Preprocessed file: realtime_earningfarm.csv\n",
      "Series([], dtype: int64)\n",
      "=================\n",
      "1\n",
      "672\n",
      "Preprocessed file: realtime_sturdy.csv\n",
      "Series([], dtype: int64)\n",
      "=================\n"
     ]
    }
   ],
   "source": [
    "for file_path in glob.glob(os.path.join(CSV_FOLDER, \"*.csv\")):\n",
    "    filename = os.path.basename(file_path)\n",
    "    preprocessed_file_path = CSV_PREPROCESSED_FOLDER+'/'+filename\n",
    "    imputed_df = impute_depth_and_max_breadth(file_path)\n",
    "\n",
    "    z_score_df = add_z_score(imputed_df,Z_SCORE_COLS)\n",
    "\n",
    "    ratio_df = add_ratio_features(z_score_df)\n",
    "\n",
    "    sus_df = pd.read_csv(SUS_FILE)\n",
    "    sus_transactions = sus_df['sus_tx']\n",
    "    sus_transactions = set(sus_transactions)\n",
    "    added_sus_df = add_sus_col(ratio_df,sus_transactions)\n",
    "\n",
    "    print('Preprocessed file:',filename)\n",
    "    find_nulls(z_score_df)\n",
    "\n",
    "    added_sus_df.to_csv(preprocessed_file_path,index=False)\n",
    "    "
   ]
  },
  {
   "cell_type": "code",
   "execution_count": null,
   "metadata": {},
   "outputs": [],
   "source": [
    "\n"
   ]
  }
 ],
 "metadata": {
  "kernelspec": {
   "display_name": "Python 3",
   "language": "python",
   "name": "python3"
  },
  "language_info": {
   "codemirror_mode": {
    "name": "ipython",
    "version": 3
   },
   "file_extension": ".py",
   "mimetype": "text/x-python",
   "name": "python",
   "nbconvert_exporter": "python",
   "pygments_lexer": "ipython3",
   "version": "3.12.3"
  }
 },
 "nbformat": 4,
 "nbformat_minor": 2
}
