{
 "cells": [
  {
   "cell_type": "code",
   "execution_count": 17,
   "metadata": {},
   "outputs": [],
   "source": [
    "import pandas as pd\n",
    "import glob\n",
    "import os\n",
    "from scipy.stats import zscore\n",
    "from utils import find_nulls, add_ratio_features, add_z_score"
   ]
  },
  {
   "cell_type": "code",
   "execution_count": 18,
   "metadata": {},
   "outputs": [],
   "source": [
    "PATH_SAMPLE = '../dataset/real-time/train/realtime_bacon.csv'\n",
    "CSV_FOLDER = '../dataset/real-time/train'\n",
    "CSV_PREPROCESSED_FOLDER = '../dataset/real-time/train_preprocessed'\n",
    "\n",
    "Z_SCORE_COLS =  ['trace_involved_amt','contract_block_involved','contract_tx_count','contract_main_active_days',\n",
    "                'sender_block_involved','sender_tx_count','sender_main_active_days','contract_interact',\n",
    "                'sender_tx_count_call_contract','sender_days_call_contract','trace_amt','distinct_sender_in_contract',\n",
    "                'contract_lifetime_days','contract_lifetime_block','distinct_contract_sender_called',\n",
    "                'sender_lifetime_days','sender_lifetime_block','contract_involved_amt','max_breadth','depth',\n",
    "                'distinct_was_called_in_sample','distinct_sender_call_in_sample','gas','gas_price',\n",
    "                'receipt_cumulative_gas_used','receipt_gas_used','value','nonce']\n",
    "\n",
    "SUS_FILE = '../dataset/sus_tx.csv'  # Replace with the actual file path"
   ]
  },
  {
   "cell_type": "code",
   "execution_count": 19,
   "metadata": {},
   "outputs": [],
   "source": [
    "def impute_depth_and_max_breadth(path):\n",
    "    df = pd.read_csv(path)\n",
    "    df['max_breadth'] = df['max_breadth']+1\n",
    "    df['max_breadth'] = df['max_breadth'].fillna(0)\n",
    "    df['depth'] = df['depth'].fillna(0)\n",
    "    return df\n",
    "\n",
    "def add_sus_col(df,attack_transactions):\n",
    "\n",
    "    def set_value_based_on_condition(row):\n",
    "        if (row['transaction_hash'] in attack_transactions):\n",
    "            return 1\n",
    "        else:\n",
    "            return 0\n",
    "        \n",
    "    df['is_sus'] = df.apply(set_value_based_on_condition, axis=1)\n",
    "\n",
    "    sus_data = df[df['is_sus'] == 1]\n",
    "    not_sus_data = df[df['is_sus'] == 0]\n",
    "\n",
    "    print(len(sus_data))\n",
    "    print(len(not_sus_data))\n",
    "\n",
    "    return df"
   ]
  },
  {
   "cell_type": "code",
   "execution_count": 20,
   "metadata": {},
   "outputs": [
    {
     "name": "stdout",
     "output_type": "stream",
     "text": [
      "<class 'pandas.core.frame.DataFrame'>\n",
      "RangeIndex: 775 entries, 0 to 774\n",
      "Data columns (total 35 columns):\n",
      " #   Column                           Non-Null Count  Dtype  \n",
      "---  ------                           --------------  -----  \n",
      " 0   transaction_hash                 775 non-null    object \n",
      " 1   trace_involved_amt               775 non-null    int64  \n",
      " 2   from_address                     775 non-null    object \n",
      " 3   to_address                       775 non-null    object \n",
      " 4   block_timestamp                  775 non-null    object \n",
      " 5   contract_block_involved          775 non-null    int64  \n",
      " 6   contract_tx_count                775 non-null    int64  \n",
      " 7   contract_block_per_tx            775 non-null    float64\n",
      " 8   contract_main_active_days        775 non-null    int64  \n",
      " 9   sender_block_involved            775 non-null    int64  \n",
      " 10  sender_tx_count                  775 non-null    int64  \n",
      " 11  sender_block_per_tx              775 non-null    float64\n",
      " 12  sender_main_active_days          775 non-null    int64  \n",
      " 13  contract_interact                775 non-null    int64  \n",
      " 14  sender_tx_count_call_contract    775 non-null    int64  \n",
      " 15  sender_days_call_contract        775 non-null    int64  \n",
      " 16  trace_amt                        775 non-null    int64  \n",
      " 17  distinct_sender_in_contract      775 non-null    int64  \n",
      " 18  contract_lifetime_days           775 non-null    int64  \n",
      " 19  contract_lifetime_block          775 non-null    int64  \n",
      " 20  distinct_contract_sender_called  775 non-null    int64  \n",
      " 21  sender_lifetime_days             775 non-null    int64  \n",
      " 22  sender_lifetime_block            775 non-null    int64  \n",
      " 23  contract_involved_amt            775 non-null    int64  \n",
      " 24  max_breadth                      775 non-null    int64  \n",
      " 25  depth                            775 non-null    int64  \n",
      " 26  distinct_was_called_in_sample    775 non-null    int64  \n",
      " 27  distinct_sender_call_in_sample   775 non-null    int64  \n",
      " 28  gas                              775 non-null    int64  \n",
      " 29  gas_price                        775 non-null    int64  \n",
      " 30  receipt_cumulative_gas_used      775 non-null    int64  \n",
      " 31  receipt_gas_used                 775 non-null    int64  \n",
      " 32  value                            775 non-null    int64  \n",
      " 33  nonce                            775 non-null    int64  \n",
      " 34  transaction_type                 775 non-null    float64\n",
      "dtypes: float64(3), int64(28), object(4)\n",
      "memory usage: 212.0+ KB\n"
     ]
    }
   ],
   "source": [
    "sample_df = pd.read_csv(PATH_SAMPLE)\n",
    "sample_df.info()"
   ]
  },
  {
   "cell_type": "code",
   "execution_count": 21,
   "metadata": {},
   "outputs": [
    {
     "name": "stdout",
     "output_type": "stream",
     "text": [
      "Series([], dtype: int64)\n",
      "=================\n",
      "max_breadth    3\n",
      "depth          3\n",
      "dtype: int64\n",
      "=================\n",
      "Series([], dtype: int64)\n",
      "=================\n",
      "Series([], dtype: int64)\n",
      "=================\n",
      "max_breadth    805\n",
      "depth          805\n",
      "dtype: int64\n",
      "=================\n",
      "max_breadth    27\n",
      "depth          27\n",
      "dtype: int64\n",
      "=================\n",
      "max_breadth    21\n",
      "depth          21\n",
      "dtype: int64\n",
      "=================\n",
      "Series([], dtype: int64)\n",
      "=================\n",
      "Series([], dtype: int64)\n",
      "=================\n",
      "max_breadth    20\n",
      "depth          20\n",
      "dtype: int64\n",
      "=================\n",
      "Series([], dtype: int64)\n",
      "=================\n",
      "max_breadth    6\n",
      "depth          6\n",
      "dtype: int64\n",
      "=================\n",
      "max_breadth    1\n",
      "depth          1\n",
      "dtype: int64\n",
      "=================\n"
     ]
    }
   ],
   "source": [
    "for file_path in glob.glob(os.path.join(CSV_FOLDER, \"*.csv\")):\n",
    "    df = pd.read_csv(file_path)\n",
    "    find_nulls(df)"
   ]
  },
  {
   "cell_type": "code",
   "execution_count": 22,
   "metadata": {},
   "outputs": [
    {
     "name": "stdout",
     "output_type": "stream",
     "text": [
      "1\n",
      "774\n",
      "Preprocessed file: realtime_bacon.csv\n",
      "Series([], dtype: int64)\n",
      "=================\n",
      "11\n",
      "988\n",
      "Preprocessed file: realtime_cream.csv\n",
      "Series([], dtype: int64)\n",
      "=================\n",
      "6\n",
      "49\n",
      "Preprocessed file: realtime_dfx.csv\n",
      "Series([], dtype: int64)\n",
      "=================\n"
     ]
    },
    {
     "name": "stderr",
     "output_type": "stream",
     "text": [
      "c:\\Users\\User\\AppData\\Local\\Programs\\Python\\Python312\\Lib\\site-packages\\numpy\\core\\_methods.py:176: RuntimeWarning: overflow encountered in multiply\n",
      "  x = um.multiply(x, x, out=x)\n",
      "c:\\Users\\User\\AppData\\Local\\Programs\\Python\\Python312\\Lib\\site-packages\\numpy\\core\\_methods.py:187: RuntimeWarning: overflow encountered in reduce\n",
      "  ret = umr_sum(x, axis, dtype, out, keepdims=keepdims, where=where)\n",
      "c:\\Users\\User\\AppData\\Local\\Programs\\Python\\Python312\\Lib\\site-packages\\numpy\\core\\_methods.py:176: RuntimeWarning: overflow encountered in multiply\n",
      "  x = um.multiply(x, x, out=x)\n",
      "c:\\Users\\User\\AppData\\Local\\Programs\\Python\\Python312\\Lib\\site-packages\\numpy\\core\\_methods.py:187: RuntimeWarning: overflow encountered in reduce\n",
      "  ret = umr_sum(x, axis, dtype, out, keepdims=keepdims, where=where)\n"
     ]
    },
    {
     "name": "stdout",
     "output_type": "stream",
     "text": [
      "1\n",
      "661\n",
      "Preprocessed file: realtime_fei.csv\n",
      "Series([], dtype: int64)\n",
      "=================\n",
      "1\n",
      "991\n",
      "Preprocessed file: realtime_hypebear.csv\n",
      "Series([], dtype: int64)\n",
      "=================\n",
      "1\n",
      "918\n",
      "Preprocessed file: realtime_jay.csv\n",
      "Series([], dtype: int64)\n",
      "=================\n"
     ]
    },
    {
     "name": "stderr",
     "output_type": "stream",
     "text": [
      "c:\\Users\\User\\AppData\\Local\\Programs\\Python\\Python312\\Lib\\site-packages\\numpy\\core\\_methods.py:176: RuntimeWarning: overflow encountered in multiply\n",
      "  x = um.multiply(x, x, out=x)\n"
     ]
    },
    {
     "name": "stdout",
     "output_type": "stream",
     "text": [
      "1\n",
      "112\n",
      "Preprocessed file: realtime_noodle.csv\n",
      "Series([], dtype: int64)\n",
      "=================\n",
      "3\n",
      "988\n",
      "Preprocessed file: realtime_omni.csv\n",
      "Series([], dtype: int64)\n",
      "=================\n",
      "1\n",
      "999\n",
      "Preprocessed file: realtime_orion.csv\n",
      "Series([], dtype: int64)\n",
      "=================\n"
     ]
    },
    {
     "name": "stderr",
     "output_type": "stream",
     "text": [
      "c:\\Users\\User\\AppData\\Local\\Programs\\Python\\Python312\\Lib\\site-packages\\numpy\\core\\_methods.py:176: RuntimeWarning: overflow encountered in multiply\n",
      "  x = um.multiply(x, x, out=x)\n",
      "c:\\Users\\User\\AppData\\Local\\Programs\\Python\\Python312\\Lib\\site-packages\\numpy\\core\\_methods.py:187: RuntimeWarning: overflow encountered in reduce\n",
      "  ret = umr_sum(x, axis, dtype, out, keepdims=keepdims, where=where)\n",
      "c:\\Users\\User\\AppData\\Local\\Programs\\Python\\Python312\\Lib\\site-packages\\numpy\\core\\_methods.py:176: RuntimeWarning: overflow encountered in multiply\n",
      "  x = um.multiply(x, x, out=x)\n",
      "c:\\Users\\User\\AppData\\Local\\Programs\\Python\\Python312\\Lib\\site-packages\\numpy\\core\\_methods.py:176: RuntimeWarning: overflow encountered in multiply\n",
      "  x = um.multiply(x, x, out=x)\n"
     ]
    },
    {
     "name": "stdout",
     "output_type": "stream",
     "text": [
      "93\n",
      "907\n",
      "Preprocessed file: realtime_rari.csv\n",
      "Series([], dtype: int64)\n",
      "=================\n",
      "2\n",
      "998\n",
      "Preprocessed file: realtime_revest.csv\n",
      "Series([], dtype: int64)\n",
      "=================\n"
     ]
    },
    {
     "name": "stderr",
     "output_type": "stream",
     "text": [
      "c:\\Users\\User\\AppData\\Local\\Programs\\Python\\Python312\\Lib\\site-packages\\numpy\\core\\_methods.py:176: RuntimeWarning: overflow encountered in multiply\n",
      "  x = um.multiply(x, x, out=x)\n"
     ]
    },
    {
     "name": "stdout",
     "output_type": "stream",
     "text": [
      "3\n",
      "996\n",
      "Preprocessed file: realtime_sanshu.csv\n",
      "Series([], dtype: int64)\n",
      "=================\n",
      "1\n",
      "999\n",
      "Preprocessed file: realtime_visor.csv\n",
      "Series([], dtype: int64)\n",
      "=================\n"
     ]
    }
   ],
   "source": [
    "for file_path in glob.glob(os.path.join(CSV_FOLDER, \"*.csv\")):\n",
    "    filename = os.path.basename(file_path)\n",
    "    preprocessed_file_path = CSV_PREPROCESSED_FOLDER+'/'+filename\n",
    "    imputed_df = impute_depth_and_max_breadth(file_path)\n",
    "\n",
    "    imputed_df['value'] = imputed_df['value'].astype('float32')\n",
    "\n",
    "    z_score_df = add_z_score(imputed_df,Z_SCORE_COLS)\n",
    "\n",
    "    ratio_df = add_ratio_features(z_score_df)\n",
    "\n",
    "    sus_df = pd.read_csv(SUS_FILE)\n",
    "    sus_transactions = sus_df['sus_tx']\n",
    "    sus_transactions = set(sus_transactions)\n",
    "    added_sus_df = add_sus_col(ratio_df,sus_transactions)\n",
    "\n",
    "    print('Preprocessed file:',filename)\n",
    "    find_nulls(z_score_df)\n",
    "\n",
    "    added_sus_df.to_csv(preprocessed_file_path,index=False)\n",
    "    "
   ]
  },
  {
   "cell_type": "code",
   "execution_count": null,
   "metadata": {},
   "outputs": [],
   "source": [
    "\n"
   ]
  }
 ],
 "metadata": {
  "kernelspec": {
   "display_name": "Python 3",
   "language": "python",
   "name": "python3"
  },
  "language_info": {
   "codemirror_mode": {
    "name": "ipython",
    "version": 3
   },
   "file_extension": ".py",
   "mimetype": "text/x-python",
   "name": "python",
   "nbconvert_exporter": "python",
   "pygments_lexer": "ipython3",
   "version": "3.12.3"
  }
 },
 "nbformat": 4,
 "nbformat_minor": 2
}
