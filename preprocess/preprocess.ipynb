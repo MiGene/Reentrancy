{
 "cells": [
  {
   "cell_type": "code",
   "execution_count": 42,
   "metadata": {},
   "outputs": [],
   "source": [
    "import pandas as pd\n",
    "import glob\n",
    "import os\n",
    "from scipy.stats import zscore\n",
    "from utils import find_nulls, add_ratio_features, add_z_score"
   ]
  },
  {
   "cell_type": "code",
   "execution_count": 43,
   "metadata": {},
   "outputs": [],
   "source": [
    "DATASET_SUFFIX = '100'\n",
    "PATH_SAMPLE = f'../dataset/real-time-{DATASET_SUFFIX}/train_preprocessed/realtime_bacon.csv'\n",
    "CSV_BASE_FOLDER = f'../dataset/real-time-{DATASET_SUFFIX}/train_preprocessed'\n",
    "CSV_PREPROCESSED_FOLDER = f'../dataset/real-time-{DATASET_SUFFIX}/train_preprocessed'\n",
    "\n",
    "Z_SCORE_COLS =  ['trace_involved_amt','contract_block_involved','contract_tx_count','contract_main_active_days',\n",
    "                'sender_block_involved','sender_tx_count','sender_main_active_days','contract_interact',\n",
    "                'sender_tx_count_call_contract','sender_days_call_contract','trace_amt','distinct_sender_in_contract',\n",
    "                'contract_lifetime_days','contract_lifetime_block','distinct_contract_sender_called',\n",
    "                'sender_lifetime_days','sender_lifetime_block','contract_involved_amt','max_breadth','depth',\n",
    "                'distinct_was_called_in_sample','distinct_sender_call_in_sample','gas','gas_price',\n",
    "                'receipt_cumulative_gas_used','receipt_gas_used','value','nonce']\n",
    "\n",
    "SUS_FILE = '../dataset/sus_tx.csv'  # Replace with the actual file path"
   ]
  },
  {
   "cell_type": "code",
   "execution_count": 44,
   "metadata": {},
   "outputs": [
    {
     "name": "stdout",
     "output_type": "stream",
     "text": [
      "Directory '../dataset/real-time-100/train_preprocessed' already exists.\n"
     ]
    }
   ],
   "source": [
    "# Check if the directory exists\n",
    "if not os.path.exists(CSV_PREPROCESSED_FOLDER):\n",
    "    # Create the directory if it doesn't exist\n",
    "    os.makedirs(CSV_PREPROCESSED_FOLDER)\n",
    "    print(f\"Directory '{CSV_PREPROCESSED_FOLDER}' created successfully.\")\n",
    "else:\n",
    "    print(f\"Directory '{CSV_PREPROCESSED_FOLDER}' already exists.\")"
   ]
  },
  {
   "cell_type": "code",
   "execution_count": 45,
   "metadata": {},
   "outputs": [],
   "source": [
    "def impute_depth_and_max_breadth(path):\n",
    "    df = pd.read_csv(path)\n",
    "    df['max_breadth'] = df['max_breadth']+1\n",
    "    df['max_breadth'] = df['max_breadth'].fillna(0)\n",
    "    df['depth'] = df['depth'].fillna(0)\n",
    "    return df\n",
    "\n",
    "def add_sus_col(df,attack_transactions):\n",
    "\n",
    "    def set_value_based_on_condition(row):\n",
    "        if (row['transaction_hash'] in attack_transactions):\n",
    "            return 1\n",
    "        else:\n",
    "            return 0\n",
    "        \n",
    "    df['is_sus'] = df.apply(set_value_based_on_condition, axis=1)\n",
    "\n",
    "    sus_data = df[df['is_sus'] == 1]\n",
    "    not_sus_data = df[df['is_sus'] == 0]\n",
    "\n",
    "    print(len(sus_data))\n",
    "    print(len(not_sus_data))\n",
    "\n",
    "    return df"
   ]
  },
  {
   "cell_type": "code",
   "execution_count": 46,
   "metadata": {},
   "outputs": [
    {
     "name": "stdout",
     "output_type": "stream",
     "text": [
      "<class 'pandas.core.frame.DataFrame'>\n",
      "RangeIndex: 100 entries, 0 to 99\n",
      "Data columns (total 76 columns):\n",
      " #   Column                                  Non-Null Count  Dtype  \n",
      "---  ------                                  --------------  -----  \n",
      " 0   index                                   100 non-null    int64  \n",
      " 1   transaction_hash                        100 non-null    object \n",
      " 2   trace_involved_amt                      100 non-null    int64  \n",
      " 3   from_address                            100 non-null    object \n",
      " 4   to_address                              100 non-null    object \n",
      " 5   block_timestamp                         100 non-null    object \n",
      " 6   contract_block_involved                 100 non-null    int64  \n",
      " 7   contract_tx_count                       100 non-null    int64  \n",
      " 8   contract_block_per_tx                   100 non-null    float64\n",
      " 9   contract_main_active_days               100 non-null    int64  \n",
      " 10  sender_block_involved                   100 non-null    int64  \n",
      " 11  sender_tx_count                         100 non-null    int64  \n",
      " 12  sender_block_per_tx                     100 non-null    float64\n",
      " 13  sender_main_active_days                 100 non-null    int64  \n",
      " 14  contract_interact                       100 non-null    int64  \n",
      " 15  sender_tx_count_call_contract           100 non-null    int64  \n",
      " 16  sender_days_call_contract               100 non-null    int64  \n",
      " 17  trace_amt                               100 non-null    int64  \n",
      " 18  distinct_sender_in_contract             100 non-null    int64  \n",
      " 19  contract_lifetime_days                  100 non-null    int64  \n",
      " 20  contract_lifetime_block                 100 non-null    int64  \n",
      " 21  distinct_contract_sender_called         100 non-null    int64  \n",
      " 22  sender_lifetime_days                    100 non-null    int64  \n",
      " 23  sender_lifetime_block                   100 non-null    int64  \n",
      " 24  contract_involved_amt                   100 non-null    int64  \n",
      " 25  max_breadth                             100 non-null    int64  \n",
      " 26  depth                                   100 non-null    int64  \n",
      " 27  distinct_was_called_in_sample           100 non-null    int64  \n",
      " 28  distinct_sender_call_in_sample          100 non-null    int64  \n",
      " 29  gas                                     100 non-null    int64  \n",
      " 30  gas_price                               100 non-null    int64  \n",
      " 31  receipt_cumulative_gas_used             100 non-null    int64  \n",
      " 32  receipt_gas_used                        100 non-null    int64  \n",
      " 33  value                                   100 non-null    float64\n",
      " 34  nonce                                   100 non-null    int64  \n",
      " 35  transaction_type                        100 non-null    float64\n",
      " 36  z_trace_involved_amt                    100 non-null    float64\n",
      " 37  z_contract_block_involved               100 non-null    float64\n",
      " 38  z_contract_tx_count                     100 non-null    float64\n",
      " 39  z_contract_main_active_days             100 non-null    float64\n",
      " 40  z_sender_block_involved                 100 non-null    float64\n",
      " 41  z_sender_tx_count                       100 non-null    float64\n",
      " 42  z_sender_main_active_days               100 non-null    float64\n",
      " 43  z_contract_interact                     100 non-null    float64\n",
      " 44  z_sender_tx_count_call_contract         100 non-null    float64\n",
      " 45  z_sender_days_call_contract             100 non-null    float64\n",
      " 46  z_trace_amt                             100 non-null    float64\n",
      " 47  z_distinct_sender_in_contract           100 non-null    float64\n",
      " 48  z_contract_lifetime_days                100 non-null    float64\n",
      " 49  z_contract_lifetime_block               100 non-null    float64\n",
      " 50  z_distinct_contract_sender_called       100 non-null    float64\n",
      " 51  z_sender_lifetime_days                  100 non-null    float64\n",
      " 52  z_sender_lifetime_block                 100 non-null    float64\n",
      " 53  z_contract_involved_amt                 100 non-null    float64\n",
      " 54  z_max_breadth                           100 non-null    float64\n",
      " 55  z_depth                                 100 non-null    float64\n",
      " 56  z_distinct_was_called_in_sample         100 non-null    float64\n",
      " 57  z_distinct_sender_call_in_sample        100 non-null    float64\n",
      " 58  z_gas                                   100 non-null    float64\n",
      " 59  z_gas_price                             100 non-null    float64\n",
      " 60  z_receipt_cumulative_gas_used           100 non-null    float64\n",
      " 61  z_receipt_gas_used                      100 non-null    float64\n",
      " 62  z_value                                 100 non-null    float64\n",
      " 63  z_nonce                                 100 non-null    float64\n",
      " 64  involved_trace_ratio                    100 non-null    float64\n",
      " 65  contract_active_day_ratio               100 non-null    float64\n",
      " 66  tx_count_per_distinct_caller            100 non-null    float64\n",
      " 67  contract_block_ratio                    100 non-null    float64\n",
      " 68  sender_active_day_ratio                 100 non-null    float64\n",
      " 69  sender_tx_count_per_contract            100 non-null    float64\n",
      " 70  sender_block_ratio                      100 non-null    float64\n",
      " 71  tx_sender_call_contract                 100 non-null    float64\n",
      " 72  sender_call_contract_tx_ratio           100 non-null    float64\n",
      " 73  sender_tx_count_call_contract_per_days  100 non-null    float64\n",
      " 74  sender_call_contract_day_ratio          100 non-null    float64\n",
      " 75  is_sus                                  100 non-null    int64  \n",
      "dtypes: float64(43), int64(29), object(4)\n",
      "memory usage: 59.5+ KB\n"
     ]
    }
   ],
   "source": [
    "sample_df = pd.read_csv(PATH_SAMPLE)\n",
    "sample_df.info()"
   ]
  },
  {
   "cell_type": "code",
   "execution_count": 47,
   "metadata": {},
   "outputs": [
    {
     "name": "stdout",
     "output_type": "stream",
     "text": [
      "Series([], dtype: int64)\n",
      "=================\n",
      "Series([], dtype: int64)\n",
      "=================\n",
      "Series([], dtype: int64)\n",
      "=================\n",
      "Series([], dtype: int64)\n",
      "=================\n",
      "Series([], dtype: int64)\n",
      "=================\n",
      "Series([], dtype: int64)\n",
      "=================\n",
      "Series([], dtype: int64)\n",
      "=================\n",
      "Series([], dtype: int64)\n",
      "=================\n",
      "Series([], dtype: int64)\n",
      "=================\n",
      "Series([], dtype: int64)\n",
      "=================\n",
      "Series([], dtype: int64)\n",
      "=================\n",
      "Series([], dtype: int64)\n",
      "=================\n",
      "Series([], dtype: int64)\n",
      "=================\n"
     ]
    }
   ],
   "source": [
    "for file_path in glob.glob(os.path.join(CSV_BASE_FOLDER, \"*.csv\")):\n",
    "    df = pd.read_csv(file_path)\n",
    "    find_nulls(df)"
   ]
  },
  {
   "cell_type": "code",
   "execution_count": 48,
   "metadata": {},
   "outputs": [
    {
     "name": "stdout",
     "output_type": "stream",
     "text": [
      "realtime_bacon.csv\n"
     ]
    },
    {
     "name": "stdout",
     "output_type": "stream",
     "text": [
      "1\n",
      "99\n",
      "Preprocessed file: realtime_bacon.csv\n",
      "Series([], dtype: int64)\n",
      "=================\n",
      "realtime_cream.csv\n",
      "11\n",
      "89\n",
      "Preprocessed file: realtime_cream.csv\n",
      "Series([], dtype: int64)\n",
      "=================\n",
      "realtime_dfx.csv\n"
     ]
    },
    {
     "name": "stderr",
     "output_type": "stream",
     "text": [
      "c:\\Users\\User\\AppData\\Local\\Programs\\Python\\Python312\\Lib\\site-packages\\numpy\\core\\_methods.py:176: RuntimeWarning: overflow encountered in multiply\n",
      "  x = um.multiply(x, x, out=x)\n",
      "c:\\Users\\User\\AppData\\Local\\Programs\\Python\\Python312\\Lib\\site-packages\\numpy\\core\\_methods.py:187: RuntimeWarning: overflow encountered in reduce\n",
      "  ret = umr_sum(x, axis, dtype, out, keepdims=keepdims, where=where)\n"
     ]
    },
    {
     "name": "stdout",
     "output_type": "stream",
     "text": [
      "6\n",
      "49\n",
      "Preprocessed file: realtime_dfx.csv\n",
      "Series([], dtype: int64)\n",
      "=================\n",
      "realtime_fei.csv\n",
      "1\n",
      "99\n",
      "Preprocessed file: realtime_fei.csv\n",
      "Series([], dtype: int64)\n",
      "=================\n",
      "realtime_hypebear.csv\n",
      "1\n",
      "99\n",
      "Preprocessed file: realtime_hypebear.csv\n",
      "Series([], dtype: int64)\n",
      "=================\n"
     ]
    },
    {
     "name": "stderr",
     "output_type": "stream",
     "text": [
      "c:\\Users\\User\\AppData\\Local\\Programs\\Python\\Python312\\Lib\\site-packages\\numpy\\core\\_methods.py:176: RuntimeWarning: overflow encountered in multiply\n",
      "  x = um.multiply(x, x, out=x)\n",
      "c:\\Users\\User\\AppData\\Local\\Programs\\Python\\Python312\\Lib\\site-packages\\numpy\\core\\_methods.py:187: RuntimeWarning: overflow encountered in reduce\n",
      "  ret = umr_sum(x, axis, dtype, out, keepdims=keepdims, where=where)\n",
      "c:\\Users\\User\\AppData\\Local\\Programs\\Python\\Python312\\Lib\\site-packages\\numpy\\core\\_methods.py:176: RuntimeWarning: overflow encountered in multiply\n",
      "  x = um.multiply(x, x, out=x)\n"
     ]
    },
    {
     "name": "stdout",
     "output_type": "stream",
     "text": [
      "realtime_jay.csv\n",
      "1\n",
      "99\n",
      "Preprocessed file: realtime_jay.csv\n",
      "Series([], dtype: int64)\n",
      "=================\n",
      "realtime_noodle.csv\n",
      "1\n",
      "99\n",
      "Preprocessed file: realtime_noodle.csv\n",
      "Series([], dtype: int64)\n",
      "=================\n",
      "realtime_omni.csv\n",
      "3\n",
      "97\n",
      "Preprocessed file: realtime_omni.csv\n",
      "Series([], dtype: int64)\n",
      "=================\n",
      "realtime_orion.csv\n"
     ]
    },
    {
     "name": "stderr",
     "output_type": "stream",
     "text": [
      "c:\\Users\\User\\AppData\\Local\\Programs\\Python\\Python312\\Lib\\site-packages\\numpy\\core\\_methods.py:176: RuntimeWarning: overflow encountered in multiply\n",
      "  x = um.multiply(x, x, out=x)\n",
      "c:\\Users\\User\\AppData\\Local\\Programs\\Python\\Python312\\Lib\\site-packages\\numpy\\core\\_methods.py:187: RuntimeWarning: overflow encountered in reduce\n",
      "  ret = umr_sum(x, axis, dtype, out, keepdims=keepdims, where=where)\n",
      "c:\\Users\\User\\AppData\\Local\\Programs\\Python\\Python312\\Lib\\site-packages\\numpy\\core\\_methods.py:176: RuntimeWarning: overflow encountered in multiply\n",
      "  x = um.multiply(x, x, out=x)\n",
      "c:\\Users\\User\\AppData\\Local\\Programs\\Python\\Python312\\Lib\\site-packages\\numpy\\core\\_methods.py:176: RuntimeWarning: overflow encountered in multiply\n",
      "  x = um.multiply(x, x, out=x)\n"
     ]
    },
    {
     "name": "stdout",
     "output_type": "stream",
     "text": [
      "1\n",
      "99\n",
      "Preprocessed file: realtime_orion.csv\n",
      "Series([], dtype: int64)\n",
      "=================\n",
      "realtime_rari.csv\n",
      "49\n",
      "51\n",
      "Preprocessed file: realtime_rari.csv\n",
      "Series([], dtype: int64)\n",
      "=================\n",
      "realtime_revest.csv\n",
      "2\n",
      "98\n",
      "Preprocessed file: realtime_revest.csv\n",
      "Series([], dtype: int64)\n",
      "=================\n",
      "realtime_sanshu.csv\n",
      "3\n",
      "97\n",
      "Preprocessed file: realtime_sanshu.csv\n",
      "Series([], dtype: int64)\n",
      "=================\n",
      "realtime_visor.csv\n",
      "1\n",
      "99\n",
      "Preprocessed file: realtime_visor.csv\n",
      "Series([], dtype: int64)\n",
      "=================\n"
     ]
    },
    {
     "name": "stderr",
     "output_type": "stream",
     "text": [
      "c:\\Users\\User\\AppData\\Local\\Programs\\Python\\Python312\\Lib\\site-packages\\numpy\\core\\_methods.py:176: RuntimeWarning: overflow encountered in multiply\n",
      "  x = um.multiply(x, x, out=x)\n"
     ]
    }
   ],
   "source": [
    "for file_path in glob.glob(os.path.join(CSV_BASE_FOLDER, \"*.csv\")):\n",
    "    filename = os.path.basename(file_path)\n",
    "    print(filename)\n",
    "    preprocessed_file_path = CSV_PREPROCESSED_FOLDER+'/'+filename\n",
    "    imputed_df = impute_depth_and_max_breadth(file_path)\n",
    "\n",
    "    imputed_df['value'] = imputed_df['value'].astype('float32')\n",
    "\n",
    "    z_score_df = add_z_score(imputed_df,Z_SCORE_COLS)\n",
    "\n",
    "    ratio_df = add_ratio_features(z_score_df)\n",
    "\n",
    "    sus_df = pd.read_csv(SUS_FILE)\n",
    "    sus_transactions = sus_df['sus_tx']\n",
    "    sus_transactions = set(sus_transactions)\n",
    "    added_sus_df = add_sus_col(ratio_df,sus_transactions)\n",
    "\n",
    "    print('Preprocessed file:',filename)\n",
    "    find_nulls(z_score_df)\n",
    "\n",
    "    added_sus_df.to_csv(preprocessed_file_path,index=False)\n",
    "    "
   ]
  }
 ],
 "metadata": {
  "kernelspec": {
   "display_name": "Python 3",
   "language": "python",
   "name": "python3"
  },
  "language_info": {
   "codemirror_mode": {
    "name": "ipython",
    "version": 3
   },
   "file_extension": ".py",
   "mimetype": "text/x-python",
   "name": "python",
   "nbconvert_exporter": "python",
   "pygments_lexer": "ipython3",
   "version": "3.12.3"
  }
 },
 "nbformat": 4,
 "nbformat_minor": 2
}
