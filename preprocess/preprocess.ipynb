{
 "cells": [
  {
   "cell_type": "code",
   "execution_count": 1,
   "metadata": {},
   "outputs": [],
   "source": [
    "import pandas as pd\n",
    "import glob\n",
    "import os\n",
    "from scipy.stats import zscore\n",
    "from utils import find_nulls, add_ratio_features, add_z_score"
   ]
  },
  {
   "cell_type": "code",
   "execution_count": 2,
   "metadata": {},
   "outputs": [],
   "source": [
    "PATH_SAMPLE = '../dataset/real-time/fill_fold/3.csv'\n",
    "CSV_FOLDER = '../dataset/real-time/fill_fold'\n",
    "CSV_PREPROCESSED_FOLDER = '../dataset/real-time/fill_fold_preprocessed'\n",
    "\n",
    "Z_SCORE_COLS =  ['trace_involved_amt','contract_block_involved','contract_tx_count','contract_main_active_days',\n",
    "                'sender_block_involved','sender_tx_count','sender_main_active_days','contract_interact',\n",
    "                'sender_tx_count_call_contract','sender_days_call_contract','trace_amt','distinct_sender_in_contract',\n",
    "                'contract_lifetime_days','contract_lifetime_block','distinct_contract_sender_called',\n",
    "                'sender_lifetime_days','sender_lifetime_block','contract_involved_amt','max_breadth','depth',\n",
    "                'distinct_was_called_in_sample','distinct_sender_call_in_sample','gas','gas_price',\n",
    "                'receipt_cumulative_gas_used','receipt_gas_used','value','nonce']\n",
    "\n",
    "SUS_FILE = '../dataset/sus_tx.csv'  # Replace with the actual file path"
   ]
  },
  {
   "cell_type": "code",
   "execution_count": 3,
   "metadata": {},
   "outputs": [],
   "source": [
    "def impute_depth_and_max_breadth(path):\n",
    "    df = pd.read_csv(path)\n",
    "    df['max_breadth'] = df['max_breadth']+1\n",
    "    df['max_breadth'] = df['max_breadth'].fillna(0)\n",
    "    df['depth'] = df['depth'].fillna(0)\n",
    "    return df\n",
    "\n",
    "def add_sus_col(df,attack_transactions):\n",
    "\n",
    "    def set_value_based_on_condition(row):\n",
    "        if (row['transaction_hash'] in attack_transactions):\n",
    "            return 1\n",
    "        else:\n",
    "            return 0\n",
    "        \n",
    "    df['is_sus'] = df.apply(set_value_based_on_condition, axis=1)\n",
    "\n",
    "    sus_data = df[df['is_sus'] == 1]\n",
    "    not_sus_data = df[df['is_sus'] == 0]\n",
    "\n",
    "    print(len(sus_data))\n",
    "    print(len(not_sus_data))\n",
    "\n",
    "    return df"
   ]
  },
  {
   "cell_type": "code",
   "execution_count": 4,
   "metadata": {},
   "outputs": [
    {
     "name": "stdout",
     "output_type": "stream",
     "text": [
      "<class 'pandas.core.frame.DataFrame'>\n",
      "RangeIndex: 525 entries, 0 to 524\n",
      "Data columns (total 36 columns):\n",
      " #   Column                           Non-Null Count  Dtype  \n",
      "---  ------                           --------------  -----  \n",
      " 0   transaction_hash                 525 non-null    object \n",
      " 1   trace_involved_amt               525 non-null    int64  \n",
      " 2   from_address                     525 non-null    object \n",
      " 3   to_address                       525 non-null    object \n",
      " 4   block_timestamp                  525 non-null    object \n",
      " 5   gas                              525 non-null    int64  \n",
      " 6   gas_price                        525 non-null    int64  \n",
      " 7   receipt_cumulative_gas_used      525 non-null    int64  \n",
      " 8   receipt_gas_used                 525 non-null    int64  \n",
      " 9   value                            525 non-null    object \n",
      " 10  nonce                            525 non-null    int64  \n",
      " 11  transaction_type                 0 non-null      float64\n",
      " 12  contract_block_involved          525 non-null    int64  \n",
      " 13  contract_tx_count                525 non-null    int64  \n",
      " 14  contract_block_per_tx            525 non-null    float64\n",
      " 15  contract_main_active_days        525 non-null    int64  \n",
      " 16  sender_block_involved            525 non-null    int64  \n",
      " 17  sender_tx_count                  525 non-null    int64  \n",
      " 18  sender_block_per_tx              525 non-null    float64\n",
      " 19  sender_main_active_days          525 non-null    int64  \n",
      " 20  contract_interact                525 non-null    int64  \n",
      " 21  add_feat_hash                    525 non-null    object \n",
      " 22  sender_tx_count_call_contract    525 non-null    int64  \n",
      " 23  sender_days_call_contract        525 non-null    int64  \n",
      " 24  trace_amt                        525 non-null    int64  \n",
      " 25  distinct_sender_in_contract      525 non-null    int64  \n",
      " 26  contract_lifetime_days           525 non-null    int64  \n",
      " 27  contract_lifetime_block          525 non-null    int64  \n",
      " 28  distinct_contract_sender_called  525 non-null    int64  \n",
      " 29  sender_lifetime_days             525 non-null    int64  \n",
      " 30  sender_lifetime_block            525 non-null    int64  \n",
      " 31  contract_involved_amt            525 non-null    int64  \n",
      " 32  max_breadth                      525 non-null    int64  \n",
      " 33  depth                            525 non-null    int64  \n",
      " 34  distinct_was_called_in_sample    525 non-null    int64  \n",
      " 35  distinct_sender_call_in_sample   525 non-null    int64  \n",
      "dtypes: float64(3), int64(27), object(6)\n",
      "memory usage: 147.8+ KB\n"
     ]
    }
   ],
   "source": [
    "sample_df = pd.read_csv(PATH_SAMPLE)\n",
    "sample_df.info()"
   ]
  },
  {
   "cell_type": "code",
   "execution_count": 5,
   "metadata": {},
   "outputs": [
    {
     "name": "stdout",
     "output_type": "stream",
     "text": [
      "transaction_type    525\n",
      "dtype: int64\n",
      "=================\n"
     ]
    }
   ],
   "source": [
    "for file_path in glob.glob(os.path.join(CSV_FOLDER, \"*.csv\")):\n",
    "    df = pd.read_csv(file_path)\n",
    "    find_nulls(df)"
   ]
  },
  {
   "cell_type": "code",
   "execution_count": 6,
   "metadata": {},
   "outputs": [
    {
     "name": "stdout",
     "output_type": "stream",
     "text": [
      "0\n",
      "525\n",
      "Preprocessed file: 3.csv\n",
      "transaction_type    525\n",
      "dtype: int64\n",
      "=================\n"
     ]
    },
    {
     "name": "stderr",
     "output_type": "stream",
     "text": [
      "c:\\Users\\User\\AppData\\Local\\Programs\\Python\\Python312\\Lib\\site-packages\\numpy\\core\\_methods.py:176: RuntimeWarning: overflow encountered in multiply\n",
      "  x = um.multiply(x, x, out=x)\n"
     ]
    }
   ],
   "source": [
    "for file_path in glob.glob(os.path.join(CSV_FOLDER, \"*.csv\")):\n",
    "    filename = os.path.basename(file_path)\n",
    "    preprocessed_file_path = CSV_PREPROCESSED_FOLDER+'/'+filename\n",
    "    imputed_df = impute_depth_and_max_breadth(file_path)\n",
    "\n",
    "    imputed_df['value'] = imputed_df['value'].astype('float32')\n",
    "\n",
    "    z_score_df = add_z_score(imputed_df,Z_SCORE_COLS)\n",
    "\n",
    "    ratio_df = add_ratio_features(z_score_df)\n",
    "\n",
    "    sus_df = pd.read_csv(SUS_FILE)\n",
    "    sus_transactions = sus_df['sus_tx']\n",
    "    sus_transactions = set(sus_transactions)\n",
    "    added_sus_df = add_sus_col(ratio_df,sus_transactions)\n",
    "\n",
    "    print('Preprocessed file:',filename)\n",
    "    find_nulls(z_score_df)\n",
    "\n",
    "    added_sus_df.to_csv(preprocessed_file_path,index=False)\n",
    "    "
   ]
  },
  {
   "cell_type": "code",
   "execution_count": null,
   "metadata": {},
   "outputs": [],
   "source": [
    "\n"
   ]
  }
 ],
 "metadata": {
  "kernelspec": {
   "display_name": "Python 3",
   "language": "python",
   "name": "python3"
  },
  "language_info": {
   "codemirror_mode": {
    "name": "ipython",
    "version": 3
   },
   "file_extension": ".py",
   "mimetype": "text/x-python",
   "name": "python",
   "nbconvert_exporter": "python",
   "pygments_lexer": "ipython3",
   "version": "3.12.3"
  }
 },
 "nbformat": 4,
 "nbformat_minor": 2
}
