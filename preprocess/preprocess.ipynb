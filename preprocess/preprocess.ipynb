{
 "cells": [
  {
   "cell_type": "code",
   "execution_count": 7,
   "metadata": {},
   "outputs": [],
   "source": [
    "import pandas as pd\n",
    "import glob\n",
    "import os\n",
    "from scipy.stats import zscore\n",
    "from utils import find_nulls, add_ratio_features, add_z_score"
   ]
  },
  {
   "cell_type": "code",
   "execution_count": 8,
   "metadata": {},
   "outputs": [],
   "source": [
    "PATH_SAMPLE = '../dataset/real-time/test_after_attack/after_attack_barley.csv'\n",
    "CSV_FOLDER = '../dataset/real-time/test_after_attack'\n",
    "CSV_PREPROCESSED_FOLDER = '../dataset/real-time/test_after_attack_preprocessed'\n",
    "\n",
    "Z_SCORE_COLS =  ['trace_involved_amt','contract_block_involved','contract_tx_count','contract_main_active_days',\n",
    "                'sender_block_involved','sender_tx_count','sender_main_active_days','contract_interact',\n",
    "                'sender_tx_count_call_contract','sender_days_call_contract','trace_amt','distinct_sender_in_contract',\n",
    "                'contract_lifetime_days','contract_lifetime_block','distinct_contract_sender_called',\n",
    "                'sender_lifetime_days','sender_lifetime_block','contract_involved_amt','max_breadth','depth',\n",
    "                'distinct_was_called_in_sample','distinct_sender_call_in_sample','gas','gas_price',\n",
    "                'receipt_cumulative_gas_used','receipt_gas_used','value','nonce']\n",
    "\n",
    "SUS_FILE = '../dataset/sus_tx.csv'  # Replace with the actual file path"
   ]
  },
  {
   "cell_type": "code",
   "execution_count": 9,
   "metadata": {},
   "outputs": [],
   "source": [
    "def impute_depth_and_max_breadth(path):\n",
    "    df = pd.read_csv(path)\n",
    "    df['max_breadth'] = df['max_breadth']+1\n",
    "    df['max_breadth'] = df['max_breadth'].fillna(0)\n",
    "    df['depth'] = df['depth'].fillna(0)\n",
    "    return df\n",
    "\n",
    "def add_sus_col(df,attack_transactions):\n",
    "\n",
    "    def set_value_based_on_condition(row):\n",
    "        if (row['transaction_hash'] in attack_transactions):\n",
    "            return 1\n",
    "        else:\n",
    "            return 0\n",
    "        \n",
    "    df['is_sus'] = df.apply(set_value_based_on_condition, axis=1)\n",
    "\n",
    "    sus_data = df[df['is_sus'] == 1]\n",
    "    not_sus_data = df[df['is_sus'] == 0]\n",
    "\n",
    "    print(len(sus_data))\n",
    "    print(len(not_sus_data))\n",
    "\n",
    "    return df"
   ]
  },
  {
   "cell_type": "code",
   "execution_count": 10,
   "metadata": {},
   "outputs": [
    {
     "name": "stdout",
     "output_type": "stream",
     "text": [
      "<class 'pandas.core.frame.DataFrame'>\n",
      "RangeIndex: 93 entries, 0 to 92\n",
      "Data columns (total 37 columns):\n",
      " #   Column                           Non-Null Count  Dtype  \n",
      "---  ------                           --------------  -----  \n",
      " 0   transaction_hash                 93 non-null     object \n",
      " 1   trace_involved_amt               93 non-null     int64  \n",
      " 2   from_address                     93 non-null     object \n",
      " 3   to_address                       93 non-null     object \n",
      " 4   block_timestamp                  93 non-null     object \n",
      " 5   gas                              93 non-null     int64  \n",
      " 6   gas_price                        93 non-null     int64  \n",
      " 7   receipt_cumulative_gas_used      93 non-null     int64  \n",
      " 8   receipt_gas_used                 93 non-null     int64  \n",
      " 9   value                            93 non-null     int64  \n",
      " 10  nonce                            93 non-null     int64  \n",
      " 11  transaction_type                 93 non-null     int64  \n",
      " 12  rn                               93 non-null     int64  \n",
      " 13  contract_block_involved          93 non-null     int64  \n",
      " 14  contract_tx_count                93 non-null     int64  \n",
      " 15  contract_block_per_tx            93 non-null     float64\n",
      " 16  contract_main_active_days        93 non-null     int64  \n",
      " 17  sender_block_involved            93 non-null     int64  \n",
      " 18  sender_tx_count                  93 non-null     int64  \n",
      " 19  sender_block_per_tx              93 non-null     float64\n",
      " 20  sender_main_active_days          93 non-null     int64  \n",
      " 21  contract_interact                93 non-null     int64  \n",
      " 22  add_feat_hash                    93 non-null     object \n",
      " 23  sender_tx_count_call_contract    93 non-null     int64  \n",
      " 24  sender_days_call_contract        93 non-null     int64  \n",
      " 25  trace_amt                        93 non-null     int64  \n",
      " 26  distinct_sender_in_contract      93 non-null     int64  \n",
      " 27  contract_lifetime_days           93 non-null     int64  \n",
      " 28  contract_lifetime_block          93 non-null     int64  \n",
      " 29  distinct_contract_sender_called  93 non-null     int64  \n",
      " 30  sender_lifetime_days             93 non-null     int64  \n",
      " 31  sender_lifetime_block            93 non-null     int64  \n",
      " 32  contract_involved_amt            93 non-null     int64  \n",
      " 33  max_breadth                      81 non-null     float64\n",
      " 34  depth                            81 non-null     float64\n",
      " 35  distinct_was_called_in_sample    93 non-null     int64  \n",
      " 36  distinct_sender_call_in_sample   93 non-null     int64  \n",
      "dtypes: float64(4), int64(28), object(5)\n",
      "memory usage: 27.0+ KB\n"
     ]
    }
   ],
   "source": [
    "sample_df = pd.read_csv(PATH_SAMPLE)\n",
    "sample_df.info()"
   ]
  },
  {
   "cell_type": "code",
   "execution_count": 11,
   "metadata": {},
   "outputs": [
    {
     "name": "stdout",
     "output_type": "stream",
     "text": [
      "max_breadth    12\n",
      "depth          12\n",
      "dtype: int64\n",
      "=================\n",
      "max_breadth    1\n",
      "depth          1\n",
      "dtype: int64\n",
      "=================\n",
      "Series([], dtype: int64)\n",
      "=================\n",
      "Series([], dtype: int64)\n",
      "=================\n",
      "Series([], dtype: int64)\n",
      "=================\n",
      "Series([], dtype: int64)\n",
      "=================\n",
      "max_breadth    29\n",
      "depth          29\n",
      "dtype: int64\n",
      "=================\n",
      "Series([], dtype: int64)\n",
      "=================\n",
      "Series([], dtype: int64)\n",
      "=================\n"
     ]
    }
   ],
   "source": [
    "for file_path in glob.glob(os.path.join(CSV_FOLDER, \"*.csv\")):\n",
    "    df = pd.read_csv(file_path)\n",
    "    find_nulls(df)"
   ]
  },
  {
   "cell_type": "code",
   "execution_count": 12,
   "metadata": {},
   "outputs": [
    {
     "name": "stdout",
     "output_type": "stream",
     "text": [
      "after_attack_barley.csv\n",
      "0\n",
      "93\n",
      "Preprocessed file: after_attack_barley.csv\n",
      "Series([], dtype: int64)\n",
      "=================\n",
      "after_attack_chainpaint.csv\n",
      "0\n",
      "440\n",
      "Preprocessed file: after_attack_chainpaint.csv\n",
      "Series([], dtype: int64)\n",
      "=================\n",
      "after_attack_curve.csv\n",
      "0\n",
      "52\n",
      "Preprocessed file: after_attack_curve.csv\n",
      "Series([], dtype: int64)\n",
      "=================\n",
      "after_attack_earningfarm.csv\n",
      "0\n",
      "8\n",
      "Preprocessed file: after_attack_earningfarm.csv\n",
      "Series([], dtype: int64)\n",
      "=================\n",
      "after_attack_gooddollar.csv\n",
      "0\n",
      "17\n",
      "Preprocessed file: after_attack_gooddollar.csv\n",
      "Series([], dtype: int64)\n",
      "=================\n",
      "after_attack_nfttrader.csv\n",
      "0\n",
      "35\n",
      "Preprocessed file: after_attack_nfttrader.csv\n",
      "Series([], dtype: int64)\n",
      "=================\n",
      "after_attack_peapods.csv\n",
      "0\n",
      "177\n",
      "Preprocessed file: after_attack_peapods.csv\n",
      "Series([], dtype: int64)\n",
      "=================\n",
      "after_attack_rugged.csv\n",
      "0\n",
      "68\n",
      "Preprocessed file: after_attack_rugged.csv\n",
      "Series([], dtype: int64)\n",
      "=================\n",
      "after_attack_sturdy.csv\n",
      "0\n",
      "370\n",
      "Preprocessed file: after_attack_sturdy.csv\n",
      "Series([], dtype: int64)\n",
      "=================\n"
     ]
    },
    {
     "name": "stderr",
     "output_type": "stream",
     "text": [
      "c:\\Users\\User\\AppData\\Local\\Programs\\Python\\Python312\\Lib\\site-packages\\numpy\\core\\_methods.py:176: RuntimeWarning: overflow encountered in multiply\n",
      "  x = um.multiply(x, x, out=x)\n",
      "c:\\Users\\User\\AppData\\Local\\Programs\\Python\\Python312\\Lib\\site-packages\\numpy\\core\\_methods.py:187: RuntimeWarning: overflow encountered in reduce\n",
      "  ret = umr_sum(x, axis, dtype, out, keepdims=keepdims, where=where)\n"
     ]
    }
   ],
   "source": [
    "for file_path in glob.glob(os.path.join(CSV_FOLDER, \"*.csv\")):\n",
    "    filename = os.path.basename(file_path)\n",
    "    print(filename)\n",
    "    preprocessed_file_path = CSV_PREPROCESSED_FOLDER+'/'+filename\n",
    "    imputed_df = impute_depth_and_max_breadth(file_path)\n",
    "\n",
    "    imputed_df['value'] = imputed_df['value'].astype('float32')\n",
    "\n",
    "    z_score_df = add_z_score(imputed_df,Z_SCORE_COLS)\n",
    "\n",
    "    ratio_df = add_ratio_features(z_score_df)\n",
    "\n",
    "    sus_df = pd.read_csv(SUS_FILE)\n",
    "    sus_transactions = sus_df['sus_tx']\n",
    "    sus_transactions = set(sus_transactions)\n",
    "    added_sus_df = add_sus_col(ratio_df,sus_transactions)\n",
    "\n",
    "    print('Preprocessed file:',filename)\n",
    "    find_nulls(z_score_df)\n",
    "\n",
    "    added_sus_df.to_csv(preprocessed_file_path,index=False)\n",
    "    "
   ]
  },
  {
   "cell_type": "code",
   "execution_count": null,
   "metadata": {},
   "outputs": [],
   "source": [
    "\n"
   ]
  }
 ],
 "metadata": {
  "kernelspec": {
   "display_name": "Python 3",
   "language": "python",
   "name": "python3"
  },
  "language_info": {
   "codemirror_mode": {
    "name": "ipython",
    "version": 3
   },
   "file_extension": ".py",
   "mimetype": "text/x-python",
   "name": "python",
   "nbconvert_exporter": "python",
   "pygments_lexer": "ipython3",
   "version": "3.12.3"
  }
 },
 "nbformat": 4,
 "nbformat_minor": 2
}
