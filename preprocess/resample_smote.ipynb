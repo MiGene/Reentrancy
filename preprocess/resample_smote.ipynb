{
 "cells": [
  {
   "cell_type": "code",
   "execution_count": null,
   "metadata": {},
   "outputs": [],
   "source": [
    "import os\n",
    "import pandas as pd\n",
    "from imblearn.over_sampling import SMOTE\n",
    "from scipy.stats import zscore\n",
    "from utils import add_ratio_features, add_z_score"
   ]
  },
  {
   "cell_type": "code",
   "execution_count": null,
   "metadata": {},
   "outputs": [],
   "source": [
    "TO_SAMPLING_COLS =  ['trace_involved_amt','contract_block_involved','contract_tx_count','contract_main_active_days',\n",
    "                    'sender_block_involved','sender_tx_count','sender_main_active_days','contract_interact',\n",
    "                    'sender_tx_count_call_contract','sender_days_call_contract','trace_amt','distinct_sender_in_contract',\n",
    "                    'contract_lifetime_days','contract_lifetime_block','distinct_contract_sender_called',\n",
    "                    'sender_lifetime_days','sender_lifetime_block','contract_involved_amt','max_breadth','depth',\n",
    "                    'distinct_was_called_in_sample','distinct_sender_call_in_sample','gas','gas_price',\n",
    "                    'receipt_cumulative_gas_used','receipt_gas_used','value','transaction_type','nonce']\n",
    "TARGET_COL = 'is_sus'\n",
    "\n",
    "PATH_TO_LOAD = '../dataset/fold'\n",
    "PATH_TO_SAVE = '../dataset/fold_upsamped'"
   ]
  },
  {
   "cell_type": "code",
   "execution_count": null,
   "metadata": {},
   "outputs": [],
   "source": [
    "def resample(data):\n",
    "\n",
    "    y = data[TARGET_COL]\n",
    "    X = data[TO_SAMPLING_COLS]\n",
    "\n",
    "    smote = SMOTE(sampling_strategy='auto', k_neighbors=3,random_state=42)\n",
    "    X_train_resampled, y_train_resampled = smote.fit_resample(X, y)\n",
    "\n",
    "    resampled_data = pd.concat([pd.DataFrame(X_train_resampled, columns=X.columns), pd.DataFrame({TARGET_COL: y_train_resampled})], axis=1)\n",
    "\n",
    "    return resampled_data"
   ]
  },
  {
   "cell_type": "code",
   "execution_count": null,
   "metadata": {},
   "outputs": [],
   "source": [
    "csv_files = [file for file in os.listdir(PATH_TO_LOAD) if file.endswith('.csv')]\n",
    "\n",
    "for file in csv_files:\n",
    "    file_path = os.path.join(PATH_TO_LOAD, file)\n",
    "\n",
    "    data = pd.read_csv(file_path)\n",
    "\n",
    "    resamped_data = resample(data)\n",
    "\n",
    "    add_z_data = add_z_score(resamped_data)\n",
    "    add_ratio_data = add_ratio_features(add_z_data)\n",
    "\n",
    "    # Save the resampled data to a new CSV file\n",
    "    output_file = os.path.join(PATH_TO_SAVE,file)\n",
    "    add_ratio_data.to_csv(output_file, index=False)\n",
    "    print(add_ratio_data.info())\n",
    "    print(f'Resampled data saved to {output_file}')"
   ]
  }
 ],
 "metadata": {
  "kernelspec": {
   "display_name": "Python 3",
   "language": "python",
   "name": "python3"
  },
  "language_info": {
   "name": "python",
   "version": "3.12.3"
  }
 },
 "nbformat": 4,
 "nbformat_minor": 2
}
