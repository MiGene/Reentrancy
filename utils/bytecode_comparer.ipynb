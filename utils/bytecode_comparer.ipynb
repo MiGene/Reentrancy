{
 "cells": [
  {
   "cell_type": "code",
   "execution_count": 8,
   "metadata": {},
   "outputs": [
    {
     "name": "stdout",
     "output_type": "stream",
     "text": [
      "Similarity between the two opcodes: 0.02\n"
     ]
    }
   ],
   "source": [
    "import difflib\n",
    "\n",
    "# Load opcodes from a text file\n",
    "def load_opcodes(file_path):\n",
    "    with open(file_path, 'r') as file:\n",
    "        opcodes = file.read().strip()\n",
    "    return opcodes\n",
    "\n",
    "# Compare two opcodes using difflib\n",
    "def compare_opcodes(opcode1, opcode2):\n",
    "    similarity = difflib.SequenceMatcher(None, opcode1, opcode2).ratio()\n",
    "    return similarity\n",
    "\n",
    "# Load the opcodes from the two text files\n",
    "opcode1 = load_opcodes('opcode2.txt')\n",
    "opcode2 = load_opcodes('opcode3.txt')\n",
    "\n",
    "# Compare the opcodes and print the result\n",
    "similarity = compare_opcodes(opcode1, opcode2)\n",
    "print(f\"Similarity between the two opcodes: {similarity:.2f}\")\n"
   ]
  }
 ],
 "metadata": {
  "kernelspec": {
   "display_name": "Python 3",
   "language": "python",
   "name": "python3"
  },
  "language_info": {
   "codemirror_mode": {
    "name": "ipython",
    "version": 3
   },
   "file_extension": ".py",
   "mimetype": "text/x-python",
   "name": "python",
   "nbconvert_exporter": "python",
   "pygments_lexer": "ipython3",
   "version": "3.12.3"
  }
 },
 "nbformat": 4,
 "nbformat_minor": 2
}
